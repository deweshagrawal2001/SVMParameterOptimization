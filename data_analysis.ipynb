{
 "cells": [
  {
   "cell_type": "code",
   "execution_count": 1,
   "metadata": {},
   "outputs": [
    {
     "name": "stdout",
     "output_type": "stream",
     "text": [
      "  Parents Has_nurs      Form Children     Housing     Finance         Social  \\\n",
      "0   usual   proper  complete        1  convenient  convenient        nonprob   \n",
      "1   usual   proper  complete        1  convenient  convenient        nonprob   \n",
      "2   usual   proper  complete        1  convenient  convenient  slightly_prob   \n",
      "3   usual   proper  complete        1  convenient  convenient  slightly_prob   \n",
      "4   usual   proper  complete        1  convenient  convenient  slightly_prob   \n",
      "\n",
      "        Health      Class  \n",
      "0     priority   priority  \n",
      "1    not_recom  not_recom  \n",
      "2  recommended  recommend  \n",
      "3     priority   priority  \n",
      "4    not_recom  not_recom  \n"
     ]
    }
   ],
   "source": [
    "import pandas as pd\n",
    "\n",
    "df = pd.read_csv('https://archive.ics.uci.edu/ml/machine-learning-databases/nursery/nursery.data')\n",
    "\n",
    "df.columns = [\"Parents\",\"Has_nurs\",\"Form\",\"Children\",\"Housing\",\"Finance\",\"Social\",\"Health\",\"Class\"]\n",
    "print(df.head(5))\n",
    "\n",
    "df1 = df.copy()\n",
    "\n",
    "#print(df1[\"Form\"].value_counts())\n",
    "df1 = pd.get_dummies(df1, columns=[\"Parents\",\"Has_nurs\",\"Form\",\"Children\",\"Housing\",\"Finance\",\"Social\",\"Health\"],drop_first=True)\n"
   ]
  },
  {
   "cell_type": "code",
   "execution_count": 4,
   "metadata": {},
   "outputs": [
    {
     "name": "stdout",
     "output_type": "stream",
     "text": [
      "(12959, 20)\n"
     ]
    },
    {
     "data": {
      "text/plain": [
       "Class                   0\n",
       "Parents_pretentious     0\n",
       "Parents_usual           0\n",
       "Has_nurs_improper       0\n",
       "Has_nurs_less_proper    0\n",
       "Has_nurs_proper         0\n",
       "Has_nurs_very_crit      0\n",
       "Form_completed          0\n",
       "Form_foster             0\n",
       "Form_incomplete         0\n",
       "Children_2              0\n",
       "Children_3              0\n",
       "Children_more           0\n",
       "Housing_critical        0\n",
       "Housing_less_conv       0\n",
       "Finance_inconv          0\n",
       "Social_problematic      0\n",
       "Social_slightly_prob    0\n",
       "Health_priority         0\n",
       "Health_recommended      0\n",
       "dtype: int64"
      ]
     },
     "execution_count": 4,
     "metadata": {},
     "output_type": "execute_result"
    }
   ],
   "source": [
    "print(df1.shape)\n",
    "df1.isnull().sum()"
   ]
  },
  {
   "cell_type": "code",
   "execution_count": 45,
   "metadata": {},
   "outputs": [
    {
     "data": {
      "text/plain": [
       "<BarContainer object of 5 artists>"
      ]
     },
     "execution_count": 45,
     "metadata": {},
     "output_type": "execute_result"
    },
    {
     "data": {
      "image/png": "[encoded data removed]",
      "text/plain": [
       "<Figure size 640x480 with 1 Axes>"
      ]
     },
     "metadata": {},
     "output_type": "display_data"
    }
   ],
   "source": [
    "import matplotlib.pyplot as plt\n",
    "cl=df1['Class'].unique()\n",
    "cl\n",
    "countcl=[]\n",
    "for clas in cl:\n",
    "    countcl.append(df1['Class'].value_counts()[clas])\n",
    "plt.bar(cl,countcl)"
   ]
  }
 ],
 "metadata": {
  "kernelspec": {
   "display_name": "base",
   "language": "python",
   "name": "python3"
  },
  "language_info": {
   "codemirror_mode": {
    "name": "ipython",
    "version": 3
   },
   "file_extension": ".py",
   "mimetype": "text/x-python",
   "name": "python",
   "nbconvert_exporter": "python",
   "pygments_lexer": "ipython3",
   "version": "3.9.13"
  },
  "orig_nbformat": 4
 },
 "nbformat": 4,
 "nbformat_minor": 2
}
